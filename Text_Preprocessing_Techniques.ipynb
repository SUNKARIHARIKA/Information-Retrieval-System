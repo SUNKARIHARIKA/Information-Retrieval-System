{
  "nbformat": 4,
  "nbformat_minor": 0,
  "metadata": {
    "colab": {
      "provenance": [],
      "authorship_tag": "ABX9TyPLR4jawhpzbjLe28+7AmDA",
      "include_colab_link": true
    },
    "kernelspec": {
      "name": "python3",
      "display_name": "Python 3"
    },
    "language_info": {
      "name": "python"
    }
  },
  "cells": [
    {
      "cell_type": "markdown",
      "metadata": {
        "id": "view-in-github",
        "colab_type": "text"
      },
      "source": [
        "<a href=\"https://colab.research.google.com/github/SUNKARIHARIKA/Information-Retrieval-System/blob/main/Text_Preprocessing_Techniques.ipynb\" target=\"_parent\"><img src=\"https://colab.research.google.com/assets/colab-badge.svg\" alt=\"Open In Colab\"/></a>"
      ]
    },
    {
      "cell_type": "code",
      "execution_count": 1,
      "metadata": {
        "colab": {
          "base_uri": "https://localhost:8080/"
        },
        "id": "6KIfwhbsGYgO",
        "outputId": "2949f162-bd02-48a0-9147-7c39466830ff"
      },
      "outputs": [
        {
          "output_type": "stream",
          "name": "stdout",
          "text": [
            " akila and pranitha .\n",
            "are  pursuing  post-graduation from sr university.\n",
            "Im having a lot of punctuations All special characters will be removed Is it so Yes I will\n",
            "\n",
            "Original string:\n",
            " The rose is a beautiful flower \n",
            "\n",
            "After removing stop words from the said text:\n",
            "['The', 'rose', 'beautiful', 'flower']\n",
            "URL of whatsapp \n",
            "  Removing emojis for text preprocessing     \n"
          ]
        },
        {
          "output_type": "stream",
          "name": "stderr",
          "text": [
            "[nltk_data] Downloading package stopwords to /root/nltk_data...\n",
            "[nltk_data]   Unzipping corpora/stopwords.zip.\n"
          ]
        }
      ],
      "source": [
        "#Text Preprocessing Techniques\n",
        "\n",
        "#1) Lowercase\n",
        "def lowercase_text(text):\n",
        "  return text.lower()\n",
        "text = ' AKILA AND PRANITHA .\\nARE  pursuing  post-graduation from SR UNIVERSITY.'\n",
        "print(lowercase_text(text))\n",
        "\n",
        "#2. Removing Punctuations\n",
        "import string\n",
        "PUNCT_TO_REMOVE = string.punctuation\n",
        "def remove_punctuation(text):\n",
        "  return ' '.join(text.translate(str.maketrans('', '', PUNCT_TO_REMOVE)).split())\n",
        "text = \"I'm having a lot of punctuations!!.@@@@@ All special characters will be removed *&&& ;) :) Is it so ? ## Yes :( I will. \"\n",
        "print(remove_punctuation(text))\n",
        "\n",
        "#3. Removing Stopwords\n",
        "import nltk\n",
        "nltk.download('stopwords')\n",
        "from nltk.corpus import stopwords\n",
        "stoplist = stopwords.words('english')\n",
        "text = ''' The rose is a beautiful flower '''\n",
        "print(\"\\nOriginal string:\")\n",
        "print(text)\n",
        "clean_word_list = [word for word in text.split() if word not in stoplist]\n",
        "print(\"\\nAfter removing stop words from the said text:\")\n",
        "print(clean_word_list)\n",
        "\n",
        "# 4) Removing URLS\n",
        "import re\n",
        "def remove_URL(sample):\n",
        "    \"\"\"Remove URLs from a sample string\"\"\"\n",
        "    return re.sub(r\"http\\S+\", \"\", sample)\n",
        "# Call the function correctly\n",
        "print(remove_URL('URL of whatsapp https://web.whatsapp.com/'))\n",
        "\n",
        "\n",
        "#5) Removing Removing Emojis\n",
        "import re\n",
        "def remove_emoji(string):\n",
        "    emoji_pattern = re.compile(\"[\"\n",
        "                           u\"\\U0001F600-\\U0001F64F\"  # emoticons\n",
        "                           u\"\\U0001F300-\\U0001F5FF\"  # symbols & pictographs\n",
        "                           u\"\\U0001F680-\\U0001F6FF\"  # transport & map symbols\n",
        "                           u\"\\U0001F1E0-\\U0001F1FF\"  # flags (iOS)\n",
        "                           u\"\\U00002702-\\U000027B0\"\n",
        "                           u\"\\U000024C2-\\U0001F251\"\n",
        "                           \"]+\", flags=re.UNICODE)\n",
        "    return emoji_pattern.sub(r'', string)\n",
        "print(remove_emoji(\"  Removing emojis for text preprocessing     \"))"
      ]
    }
  ]
}