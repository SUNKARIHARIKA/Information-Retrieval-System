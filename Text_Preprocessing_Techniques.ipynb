{
  "nbformat": 4,
  "nbformat_minor": 0,
  "metadata": {
    "colab": {
      "provenance": [],
      "authorship_tag": "ABX9TyMzt53SON/OB4IFksGKeZ07",
      "include_colab_link": true
    },
    "kernelspec": {
      "name": "python3",
      "display_name": "Python 3"
    },
    "language_info": {
      "name": "python"
    }
  },
  "cells": [
    {
      "cell_type": "markdown",
      "metadata": {
        "id": "view-in-github",
        "colab_type": "text"
      },
      "source": [
        "<a href=\"https://colab.research.google.com/github/SUNKARIHARIKA/Information-Retrieval-System/blob/main/Text_Preprocessing_Techniques.ipynb\" target=\"_parent\"><img src=\"https://colab.research.google.com/assets/colab-badge.svg\" alt=\"Open In Colab\"/></a>"
      ]
    },
    {
      "cell_type": "code",
      "execution_count": 2,
      "metadata": {
        "colab": {
          "base_uri": "https://localhost:8080/"
        },
        "id": "6KIfwhbsGYgO",
        "outputId": "966d6c8f-36fc-4ab3-91da-f6ee0995a5eb"
      },
      "outputs": [
        {
          "output_type": "stream",
          "name": "stdout",
          "text": [
            " akila and pranitha .\n",
            "are  pursuing  post-graduation from sr university.\n"
          ]
        }
      ],
      "source": [
        "#Text Preprocessing Techniques\n",
        "\n",
        "#1) Lowercase\n",
        "def lowercase_text(text):\n",
        "  return text.lower()\n",
        "text = ' AKILA AND PRANITHA .\\nARE  pursuing  post-graduation from SR UNIVERSITY.'\n",
        "print(lowercase_text(text))"
      ]
    },
    {
      "cell_type": "code",
      "source": [
        "#2. Removing Punctuations\n",
        "import string\n",
        "PUNCT_TO_REMOVE = string.punctuation\n",
        "def remove_punctuation(text):\n",
        "  return ' '.join(text.translate(str.maketrans('', '', PUNCT_TO_REMOVE)).split())\n",
        "text = \"I'm having a lot of punctuations!!.@@@@@ All special characters will be removed *&&& ;) :) Is it so ? ## Yes :( I will. \"\n",
        "print(remove_punctuation(text))"
      ],
      "metadata": {
        "colab": {
          "base_uri": "https://localhost:8080/"
        },
        "id": "14FFzNd-I0GB",
        "outputId": "e13adf84-94be-4c0d-e1fe-9a817014f48a"
      },
      "execution_count": 3,
      "outputs": [
        {
          "output_type": "stream",
          "name": "stdout",
          "text": [
            "Im having a lot of punctuations All special characters will be removed Is it so Yes I will\n"
          ]
        }
      ]
    },
    {
      "cell_type": "code",
      "source": [
        "#3. Removing Stopwords\n",
        "import nltk\n",
        "nltk.download('stopwords')\n",
        "from nltk.corpus import stopwords\n",
        "stoplist = stopwords.words('english')\n",
        "text = ''' The rose is a beautiful flower '''\n",
        "print(\"\\nOriginal string:\")\n",
        "print(text)\n",
        "clean_word_list = [word for word in text.split() if word not in stoplist]\n",
        "print(\"\\nAfter removing stop words from the said text:\")\n",
        "print(clean_word_list)"
      ],
      "metadata": {
        "colab": {
          "base_uri": "https://localhost:8080/"
        },
        "id": "gI1DwCzEI2Wt",
        "outputId": "96927b34-07b1-4432-8554-d263b4b58d22"
      },
      "execution_count": 4,
      "outputs": [
        {
          "output_type": "stream",
          "name": "stdout",
          "text": [
            "\n",
            "Original string:\n",
            " The rose is a beautiful flower \n",
            "\n",
            "After removing stop words from the said text:\n",
            "['The', 'rose', 'beautiful', 'flower']\n"
          ]
        },
        {
          "output_type": "stream",
          "name": "stderr",
          "text": [
            "[nltk_data] Downloading package stopwords to /root/nltk_data...\n",
            "[nltk_data]   Package stopwords is already up-to-date!\n"
          ]
        }
      ]
    },
    {
      "cell_type": "code",
      "source": [
        "# 4) Removing URLS\n",
        "import re\n",
        "def remove_URL(sample):\n",
        "    \"\"\"Remove URLs from a sample string\"\"\"\n",
        "    return re.sub(r\"http\\S+\", \"\", sample)\n",
        "# Call the function correctly\n",
        "print(remove_URL('URL of whatsapp https://web.whatsapp.com/'))"
      ],
      "metadata": {
        "colab": {
          "base_uri": "https://localhost:8080/"
        },
        "id": "rQqeKvQhI4M0",
        "outputId": "ccc2de67-926d-47bf-e07c-8a44acbf66ed"
      },
      "execution_count": 5,
      "outputs": [
        {
          "output_type": "stream",
          "name": "stdout",
          "text": [
            "URL of whatsapp \n"
          ]
        }
      ]
    },
    {
      "cell_type": "code",
      "source": [
        "#5) Removing Removing Emojis\n",
        "import re\n",
        "def remove_emoji(string):\n",
        "    emoji_pattern = re.compile(\"[\"\n",
        "                           u\"\\U0001F600-\\U0001F64F\"  # emoticons\n",
        "                           u\"\\U0001F300-\\U0001F5FF\"  # symbols & pictographs\n",
        "                           u\"\\U0001F680-\\U0001F6FF\"  # transport & map symbols\n",
        "                           u\"\\U0001F1E0-\\U0001F1FF\"  # flags (iOS)\n",
        "                           u\"\\U00002702-\\U000027B0\"\n",
        "                           u\"\\U000024C2-\\U0001F251\"\n",
        "                           \"]+\", flags=re.UNICODE)\n",
        "    return emoji_pattern.sub(r'', string)\n",
        "print(remove_emoji(\"  Removing emojis for text preprocessing     \"))"
      ],
      "metadata": {
        "colab": {
          "base_uri": "https://localhost:8080/"
        },
        "id": "85bv35nDI6MV",
        "outputId": "fe9f3da0-6853-485b-dccc-5231d2b4e587"
      },
      "execution_count": 6,
      "outputs": [
        {
          "output_type": "stream",
          "name": "stdout",
          "text": [
            "  Removing emojis for text preprocessing     \n"
          ]
        }
      ]
    }
  ]
}